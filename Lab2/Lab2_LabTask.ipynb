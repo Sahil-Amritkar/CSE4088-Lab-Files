{
 "cells": [
  {
   "attachments": {},
   "cell_type": "markdown",
   "metadata": {},
   "source": [
    "# Lab 2 Task - Tensors: 1-5 Dimension Data Representation"
   ]
  },
  {
   "attachments": {},
   "cell_type": "markdown",
   "metadata": {},
   "source": [
    "### SAHIL AMRITKAR\n",
    "### 20BRS1180  \n"
   ]
  },
  {
   "cell_type": "code",
   "execution_count": 2,
   "metadata": {},
   "outputs": [],
   "source": [
    "import numpy as np\n",
    "import random"
   ]
  },
  {
   "cell_type": "code",
   "execution_count": 3,
   "metadata": {},
   "outputs": [
    {
     "name": "stdout",
     "output_type": "stream",
     "text": [
      "dim: 1\n",
      "shape: (100,)\n"
     ]
    }
   ],
   "source": [
    "# 1 dimension - Random Numbers\n",
    "dim1 = random.sample(range(1, 1000), 100)\n",
    "dim1=np.array(dim1)\n",
    "print(\"dim:\",dim1.ndim)\n",
    "print(\"shape:\", dim1.shape)"
   ]
  },
  {
   "cell_type": "code",
   "execution_count": 4,
   "metadata": {},
   "outputs": [
    {
     "name": "stdout",
     "output_type": "stream",
     "text": [
      "dim: 2\n",
      "shape: (10, 10)\n"
     ]
    }
   ],
   "source": [
    "# 2 dimension - Random Numbers\n",
    "dim2=[]\n",
    "for i in range(10):\n",
    "    dim2.append(random.sample(range(1, 1000), 10))\n",
    "dim2=np.array(dim2)\n",
    "print(\"dim:\",dim2.ndim)\n",
    "print(\"shape:\",dim2.shape)"
   ]
  },
  {
   "cell_type": "code",
   "execution_count": 5,
   "metadata": {},
   "outputs": [
    {
     "name": "stderr",
     "output_type": "stream",
     "text": [
      "100%|██████████| 37/37 [00:00<00:00, 1677.23it/s]"
     ]
    },
    {
     "name": "stdout",
     "output_type": "stream",
     "text": [
      "images= 37\n",
      "dim: 3\n",
      "shape: (37, 100, 100)\n"
     ]
    },
    {
     "name": "stderr",
     "output_type": "stream",
     "text": [
      "\n"
     ]
    }
   ],
   "source": [
    "# 3 dimension - Grayscale images\n",
    "import os\n",
    "import pickle\n",
    "import random\n",
    "import cv2\n",
    "import matplotlib.pyplot as plt\n",
    "import numpy as np\n",
    "from tqdm import tqdm\n",
    "\n",
    "DATADIR = \"/Users/sahilamritkar/Sahil Codes/6th Sem Codes/CSE4088/Lab2\"\n",
    "CATEGORIES = [\"Soil_Images\"]\n",
    "IMG_SIZE=100\n",
    "\n",
    "training_data=[]\n",
    "\n",
    "for category in CATEGORIES:  \n",
    "    path = os.path.join(DATADIR,category) \n",
    "    class_num = CATEGORIES.index(category)  \n",
    "\n",
    "    for img in tqdm(os.listdir(path)): \n",
    "        try:\n",
    "            img_array = cv2.imread(os.path.join(path,img) ,cv2.IMREAD_GRAYSCALE)  # convert to array\n",
    "            new_array = cv2.resize(img_array, (IMG_SIZE, IMG_SIZE))  # resize to normalize data size\n",
    "            training_data.append([new_array, class_num])  # add this to our training_data\n",
    "        except Exception as e:  # in the interest in keeping the output clean...\n",
    "            pass\n",
    "print(\"images=\",len(training_data))\n",
    "\n",
    "#dividing data into X and Y\n",
    "X = []\n",
    "y = []\n",
    "\n",
    "for features,label in training_data:\n",
    "    X.append(features)\n",
    "    y.append(label)\n",
    "\n",
    "X = np.array(X).reshape(-1,IMG_SIZE, IMG_SIZE)\n",
    "y=np.array(y)\n",
    "\n",
    "dim3=X\n",
    "print(\"dim:\",dim3.ndim)\n",
    "print(\"shape:\",dim3.shape)"
   ]
  },
  {
   "cell_type": "code",
   "execution_count": 6,
   "metadata": {},
   "outputs": [
    {
     "name": "stderr",
     "output_type": "stream",
     "text": [
      "100%|██████████| 37/37 [00:00<00:00, 1630.60it/s]"
     ]
    },
    {
     "name": "stdout",
     "output_type": "stream",
     "text": [
      "images= 37\n",
      "dim: 4\n",
      "shape: (37, 100, 100, 3)\n"
     ]
    },
    {
     "name": "stderr",
     "output_type": "stream",
     "text": [
      "\n"
     ]
    }
   ],
   "source": [
    "# 4 dimension - Colour images\n",
    "import os\n",
    "import pickle\n",
    "import random\n",
    "import cv2\n",
    "import matplotlib.pyplot as plt\n",
    "import numpy as np\n",
    "from tqdm import tqdm\n",
    "\n",
    "DATADIR = \"/Users/sahilamritkar/Sahil Codes/6th Sem Codes/CSE4088/Lab2\"\n",
    "CATEGORIES = [\"Soil_Images\"]\n",
    "IMG_SIZE=100\n",
    "\n",
    "training_data=[]\n",
    "\n",
    "for category in CATEGORIES:  \n",
    "    path = os.path.join(DATADIR,category) \n",
    "    class_num = CATEGORIES.index(category)  \n",
    "\n",
    "    for img in tqdm(os.listdir(path)): \n",
    "        try:\n",
    "            img_array = cv2.imread(os.path.join(path,img) ,cv2.IMREAD_COLOR)  # convert to array\n",
    "            new_array = cv2.resize(img_array, (IMG_SIZE, IMG_SIZE))  # resize to normalize data size\n",
    "            training_data.append([new_array, class_num])  # add this to our training_data\n",
    "        except Exception as e:  # in the interest in keeping the output clean...\n",
    "            pass\n",
    "print(\"images=\",len(training_data))\n",
    "\n",
    "#dividing data into X and Y\n",
    "X = []\n",
    "y = []\n",
    "\n",
    "for features,label in training_data:\n",
    "    X.append(features)\n",
    "    y.append(label)\n",
    "\n",
    "\n",
    "X = np.array(X).reshape(-1,IMG_SIZE, IMG_SIZE, 3)\n",
    "y=np.array(y)\n",
    "\n",
    "dim4=X\n",
    "print(\"dim:\",dim4.ndim)\n",
    "print(\"shape:\",dim4.shape)"
   ]
  },
  {
   "cell_type": "code",
   "execution_count": 7,
   "metadata": {},
   "outputs": [
    {
     "name": "stdout",
     "output_type": "stream",
     "text": [
      "dim: 5\n",
      "shape: (5, 5, 5, 5, 5)\n"
     ]
    }
   ],
   "source": [
    "# 5 dimension - Random Numbers\n",
    "dim5=[[[[random.sample(range(1, 100), 5)]*5]*5]*5]*5\n",
    "dim5=np.array(dim5)\n",
    "print(\"dim:\",dim5.ndim)\n",
    "print(\"shape:\",dim5.shape)"
   ]
  }
 ],
 "metadata": {
  "kernelspec": {
   "display_name": "Python 3",
   "language": "python",
   "name": "python3"
  },
  "language_info": {
   "codemirror_mode": {
    "name": "ipython",
    "version": 3
   },
   "file_extension": ".py",
   "mimetype": "text/x-python",
   "name": "python",
   "nbconvert_exporter": "python",
   "pygments_lexer": "ipython3",
   "version": "3.9.13"
  },
  "orig_nbformat": 4,
  "vscode": {
   "interpreter": {
    "hash": "b0fa6594d8f4cbf19f97940f81e996739fb7646882a419484c72d19e05852a7e"
   }
  }
 },
 "nbformat": 4,
 "nbformat_minor": 2
}
