{
 "cells": [
  {
   "attachments": {},
   "cell_type": "markdown",
   "metadata": {},
   "source": [
    "# Assignment Task 2 - Perform 2 tensor operations on tensors of 3,4,5 dim"
   ]
  },
  {
   "attachments": {},
   "cell_type": "markdown",
   "metadata": {},
   "source": [
    "### SAHIL AMRITKAR\n",
    "### 20BRS1180  \n"
   ]
  },
  {
   "cell_type": "code",
   "execution_count": 38,
   "metadata": {},
   "outputs": [],
   "source": [
    "import numpy as np\n",
    "import random"
   ]
  },
  {
   "cell_type": "code",
   "execution_count": 39,
   "metadata": {},
   "outputs": [],
   "source": [
    "#RELU\n",
    "def naive_relu(x):\n",
    "    shape=x.shape\n",
    "    new=[]\n",
    "    for i in np.nditer(x):\n",
    "        new.append(max(0, i))\n",
    "    new=np.reshape(new, shape)\n",
    "    return new"
   ]
  },
  {
   "cell_type": "code",
   "execution_count": 40,
   "metadata": {},
   "outputs": [],
   "source": [
    "#ADD\n",
    "def naive_add(x, y):\n",
    "    shape=x.shape\n",
    "    new=[]\n",
    "    for i,j in zip(np.nditer(x), np.nditer(y)):\n",
    "        new.append(i+j)\n",
    "    new=np.reshape(new, shape)\n",
    "    return new"
   ]
  },
  {
   "cell_type": "code",
   "execution_count": 41,
   "metadata": {},
   "outputs": [
    {
     "name": "stdout",
     "output_type": "stream",
     "text": [
      "dim: 3\n",
      "shape: (1, 3, 3)\n"
     ]
    }
   ],
   "source": [
    "# 3 dimension data- Random Numbers\n",
    "dim3=np.random.randint(low=-10, high=11, size=(1, 3, 3))\n",
    "print(\"dim:\",dim3.ndim)\n",
    "print(\"shape:\",dim3.shape)"
   ]
  },
  {
   "cell_type": "code",
   "execution_count": 42,
   "metadata": {},
   "outputs": [
    {
     "name": "stdout",
     "output_type": "stream",
     "text": [
      "dim: 4\n",
      "shape: (1, 1, 3, 3)\n"
     ]
    }
   ],
   "source": [
    "# 4 dimension data- Random Numbers\n",
    "dim4=np.random.randint(low=-10, high=11, size=(1, 1, 3, 3))\n",
    "print(\"dim:\",dim4.ndim)\n",
    "print(\"shape:\",dim4.shape)"
   ]
  },
  {
   "cell_type": "code",
   "execution_count": 43,
   "metadata": {},
   "outputs": [
    {
     "name": "stdout",
     "output_type": "stream",
     "text": [
      "dim: 5\n",
      "shape: (1, 1, 1, 3, 3)\n"
     ]
    }
   ],
   "source": [
    "# 5 dimension data- Random Numbers\n",
    "dim5=np.random.randint(low=-10, high=11, size=(1, 1, 1, 3, 3))\n",
    "print(\"dim:\",dim5.ndim)\n",
    "print(\"shape:\",dim5.shape)"
   ]
  },
  {
   "cell_type": "code",
   "execution_count": 44,
   "metadata": {},
   "outputs": [
    {
     "name": "stdout",
     "output_type": "stream",
     "text": [
      "before:\n",
      " [[[  0   0  -1]\n",
      "  [  4   7 -10]\n",
      "  [  9  -2  -5]]]\n",
      "after relu:\n",
      " [[[0 0 0]\n",
      "  [4 7 0]\n",
      "  [9 0 0]]]\n"
     ]
    }
   ],
   "source": [
    "#relu on 3 dim\n",
    "print(\"before:\\n\", dim3)\n",
    "dim3=naive_relu(dim3)\n",
    "print(\"after relu:\\n\", dim3)"
   ]
  },
  {
   "cell_type": "code",
   "execution_count": 45,
   "metadata": {},
   "outputs": [
    {
     "name": "stdout",
     "output_type": "stream",
     "text": [
      "before:\n",
      " [[[[-7  2 -3]\n",
      "   [ 7  9  5]\n",
      "   [ 0  5 -7]]]]\n",
      "after relu:\n",
      " [[[[0 2 0]\n",
      "   [7 9 5]\n",
      "   [0 5 0]]]]\n"
     ]
    }
   ],
   "source": [
    "#relu on 4 dim\n",
    "print(\"before:\\n\", dim4)\n",
    "dim4=naive_relu(dim4)\n",
    "print(\"after relu:\\n\", dim4)"
   ]
  },
  {
   "cell_type": "code",
   "execution_count": 46,
   "metadata": {},
   "outputs": [
    {
     "name": "stdout",
     "output_type": "stream",
     "text": [
      "before:\n",
      " [[[[[ 4 -1  1]\n",
      "    [ 8  9 -7]\n",
      "    [-8 -2 10]]]]]\n",
      "after relu:\n",
      " [[[[[ 4  0  1]\n",
      "    [ 8  9  0]\n",
      "    [ 0  0 10]]]]]\n"
     ]
    }
   ],
   "source": [
    "#relu on 5 dim\n",
    "print(\"before:\\n\", dim5)\n",
    "dim5=naive_relu(dim5)\n",
    "print(\"after relu:\\n\", dim5)"
   ]
  },
  {
   "cell_type": "code",
   "execution_count": 47,
   "metadata": {},
   "outputs": [
    {
     "name": "stdout",
     "output_type": "stream",
     "text": [
      "Adding 2 3dim:\n",
      " [[[ 0  0  0]\n",
      "  [ 8 14  0]\n",
      "  [18  0  0]]]\n",
      "Adding 2 4dim:\n",
      " [[[[ 0  4  0]\n",
      "   [14 18 10]\n",
      "   [ 0 10  0]]]]\n",
      "Adding 2 5dim:\n",
      " [[[[[ 8  0  2]\n",
      "    [16 18  0]\n",
      "    [ 0  0 20]]]]]\n"
     ]
    }
   ],
   "source": [
    "#Adding\n",
    "print(\"Adding 2 3dim:\\n\", naive_add(dim3, dim3))\n",
    "print(\"Adding 2 4dim:\\n\", naive_add(dim4, dim4))\n",
    "print(\"Adding 2 5dim:\\n\", naive_add(dim5, dim5))"
   ]
  }
 ],
 "metadata": {
  "kernelspec": {
   "display_name": "Python 3",
   "language": "python",
   "name": "python3"
  },
  "language_info": {
   "codemirror_mode": {
    "name": "ipython",
    "version": 3
   },
   "file_extension": ".py",
   "mimetype": "text/x-python",
   "name": "python",
   "nbconvert_exporter": "python",
   "pygments_lexer": "ipython3",
   "version": "3.9.13"
  },
  "orig_nbformat": 4,
  "vscode": {
   "interpreter": {
    "hash": "b0fa6594d8f4cbf19f97940f81e996739fb7646882a419484c72d19e05852a7e"
   }
  }
 },
 "nbformat": 4,
 "nbformat_minor": 2
}
