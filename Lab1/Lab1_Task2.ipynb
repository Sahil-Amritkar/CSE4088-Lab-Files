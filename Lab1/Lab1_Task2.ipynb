{
 "cells": [
  {
   "attachments": {},
   "cell_type": "markdown",
   "metadata": {},
   "source": [
    "# Assignment Task 2 - GITHUB"
   ]
  },
  {
   "attachments": {},
   "cell_type": "markdown",
   "metadata": {},
   "source": [
    "### SAHIL AMRITKAR\n",
    "### 20BRS1180  \n"
   ]
  },
  {
   "cell_type": "code",
   "execution_count": null,
   "metadata": {},
   "outputs": [],
   "source": [
    "#Import PatchCamelyon (PCam) and perform classification\n",
    "#IMPORT DATASET FROM GITHUB"
   ]
  },
  {
   "cell_type": "code",
   "execution_count": 1,
   "metadata": {},
   "outputs": [],
   "source": [
    "import numpy as np\n",
    "import requests\n",
    "import io\n",
    "import pandas as pd"
   ]
  },
  {
   "cell_type": "code",
   "execution_count": null,
   "metadata": {},
   "outputs": [],
   "source": [
    "#Bandwidth not enough to download 10gb of images so using CSV instead"
   ]
  },
  {
   "cell_type": "code",
   "execution_count": 7,
   "metadata": {},
   "outputs": [
    {
     "data": {
      "text/html": [
       "<div>\n",
       "<style scoped>\n",
       "    .dataframe tbody tr th:only-of-type {\n",
       "        vertical-align: middle;\n",
       "    }\n",
       "\n",
       "    .dataframe tbody tr th {\n",
       "        vertical-align: top;\n",
       "    }\n",
       "\n",
       "    .dataframe thead th {\n",
       "        text-align: right;\n",
       "    }\n",
       "</style>\n",
       "<table border=\"1\" class=\"dataframe\">\n",
       "  <thead>\n",
       "    <tr style=\"text-align: right;\">\n",
       "      <th></th>\n",
       "      <th>soil_type</th>\n",
       "      <th>organic_matter</th>\n",
       "      <th>water_capacity</th>\n",
       "      <th>minerals</th>\n",
       "      <th>pH_level</th>\n",
       "      <th>regions</th>\n",
       "      <th>what_to_grow</th>\n",
       "      <th>water_val</th>\n",
       "      <th>ph_val</th>\n",
       "      <th>organic_val</th>\n",
       "    </tr>\n",
       "  </thead>\n",
       "  <tbody>\n",
       "    <tr>\n",
       "      <th>0</th>\n",
       "      <td>Arid Soil</td>\n",
       "      <td>2-4%</td>\n",
       "      <td>low</td>\n",
       "      <td>gypsum, calcium carbonates, sodium</td>\n",
       "      <td>8.5-10.0</td>\n",
       "      <td>haryana, western rajasthan, punjab, gujrat</td>\n",
       "      <td>barley, cotton, wheat, millets, maize, pulses</td>\n",
       "      <td>0.2</td>\n",
       "      <td>9.25</td>\n",
       "      <td>3.0</td>\n",
       "    </tr>\n",
       "    <tr>\n",
       "      <th>1</th>\n",
       "      <td>Black Soil</td>\n",
       "      <td>40-50%</td>\n",
       "      <td>high</td>\n",
       "      <td>iron, lime, calcium, potash, magnesium, aluminium</td>\n",
       "      <td>7.2-8.5</td>\n",
       "      <td>gujrat, maharashtra, karnataka, madhya pradesh</td>\n",
       "      <td>cotton, wheat, jowar, linseed, castor, sunflow...</td>\n",
       "      <td>0.4</td>\n",
       "      <td>7.85</td>\n",
       "      <td>45.0</td>\n",
       "    </tr>\n",
       "    <tr>\n",
       "      <th>2</th>\n",
       "      <td>Cinder Soil</td>\n",
       "      <td>5-7%</td>\n",
       "      <td>low</td>\n",
       "      <td>aluminium, iron, sodium, carbon</td>\n",
       "      <td>6.6-7.8</td>\n",
       "      <td>bihar, southern uttaranchal, west bengal, oris...</td>\n",
       "      <td>beans, bok choy, chard, chives, garlic, leek, ...</td>\n",
       "      <td>0.2</td>\n",
       "      <td>7.20</td>\n",
       "      <td>6.0</td>\n",
       "    </tr>\n",
       "    <tr>\n",
       "      <th>3</th>\n",
       "      <td>Laterite Soil</td>\n",
       "      <td>0-5%</td>\n",
       "      <td>low</td>\n",
       "      <td>nitrogen, phosphorus, potassium, lime, magnesi...</td>\n",
       "      <td>5.5-7.5</td>\n",
       "      <td>western ghats, eastern ghats, southern maharas...</td>\n",
       "      <td>tea, coffee, rubber, cinchona, coconut, areca nut</td>\n",
       "      <td>0.2</td>\n",
       "      <td>6.50</td>\n",
       "      <td>2.5</td>\n",
       "    </tr>\n",
       "    <tr>\n",
       "      <th>4</th>\n",
       "      <td>Peat Soil</td>\n",
       "      <td>33-67%</td>\n",
       "      <td>very high</td>\n",
       "      <td>iron, aluminium</td>\n",
       "      <td>3.7-5.2</td>\n",
       "      <td>southern uttarakhand, northern bihar, coastal ...</td>\n",
       "      <td>potatoes, sugar beet, celery, onions, carrots,...</td>\n",
       "      <td>0.5</td>\n",
       "      <td>4.45</td>\n",
       "      <td>50.0</td>\n",
       "    </tr>\n",
       "  </tbody>\n",
       "</table>\n",
       "</div>"
      ],
      "text/plain": [
       "       soil_type organic_matter water_capacity  \\\n",
       "0      Arid Soil           2-4%            low   \n",
       "1     Black Soil         40-50%           high   \n",
       "2    Cinder Soil           5-7%            low   \n",
       "3  Laterite Soil           0-5%            low   \n",
       "4      Peat Soil         33-67%      very high   \n",
       "\n",
       "                                            minerals  pH_level  \\\n",
       "0                 gypsum, calcium carbonates, sodium  8.5-10.0   \n",
       "1  iron, lime, calcium, potash, magnesium, aluminium   7.2-8.5   \n",
       "2                    aluminium, iron, sodium, carbon   6.6-7.8   \n",
       "3  nitrogen, phosphorus, potassium, lime, magnesi...   5.5-7.5   \n",
       "4                                    iron, aluminium   3.7-5.2   \n",
       "\n",
       "                                             regions  \\\n",
       "0         haryana, western rajasthan, punjab, gujrat   \n",
       "1     gujrat, maharashtra, karnataka, madhya pradesh   \n",
       "2  bihar, southern uttaranchal, west bengal, oris...   \n",
       "3  western ghats, eastern ghats, southern maharas...   \n",
       "4  southern uttarakhand, northern bihar, coastal ...   \n",
       "\n",
       "                                        what_to_grow  water_val  ph_val  \\\n",
       "0      barley, cotton, wheat, millets, maize, pulses        0.2    9.25   \n",
       "1  cotton, wheat, jowar, linseed, castor, sunflow...        0.4    7.85   \n",
       "2  beans, bok choy, chard, chives, garlic, leek, ...        0.2    7.20   \n",
       "3  tea, coffee, rubber, cinchona, coconut, areca nut        0.2    6.50   \n",
       "4  potatoes, sugar beet, celery, onions, carrots,...        0.5    4.45   \n",
       "\n",
       "   organic_val  \n",
       "0          3.0  \n",
       "1         45.0  \n",
       "2          6.0  \n",
       "3          2.5  \n",
       "4         50.0  "
      ]
     },
     "execution_count": 7,
     "metadata": {},
     "output_type": "execute_result"
    }
   ],
   "source": [
    "url = \"https://raw.githubusercontent.com/Sahil-Amritkar/WhatToGrow/main/CNN_Model/soil_properties.csv\" \n",
    "download = requests.get(url).content\n",
    "\n",
    "df = pd.read_csv(io.StringIO(download.decode('utf-8')), on_bad_lines='skip')\n",
    "df.head()"
   ]
  },
  {
   "cell_type": "code",
   "execution_count": null,
   "metadata": {},
   "outputs": [],
   "source": [
    "#Dataset sucesfully imported from GITHUB"
   ]
  }
 ],
 "metadata": {
  "kernelspec": {
   "display_name": "Python 3",
   "language": "python",
   "name": "python3"
  },
  "language_info": {
   "codemirror_mode": {
    "name": "ipython",
    "version": 3
   },
   "file_extension": ".py",
   "mimetype": "text/x-python",
   "name": "python",
   "nbconvert_exporter": "python",
   "pygments_lexer": "ipython3",
   "version": "3.9.13 (main, Aug  7 2022, 01:19:39) \n[Clang 13.1.6 (clang-1316.0.21.2.5)]"
  },
  "orig_nbformat": 4,
  "vscode": {
   "interpreter": {
    "hash": "b0fa6594d8f4cbf19f97940f81e996739fb7646882a419484c72d19e05852a7e"
   }
  }
 },
 "nbformat": 4,
 "nbformat_minor": 2
}
