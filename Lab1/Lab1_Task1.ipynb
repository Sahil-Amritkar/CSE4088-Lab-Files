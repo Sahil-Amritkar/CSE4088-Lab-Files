{
 "cells": [
  {
   "attachments": {},
   "cell_type": "markdown",
   "metadata": {},
   "source": [
    "# Assignment Task 1 - Fashion MNIST"
   ]
  },
  {
   "attachments": {},
   "cell_type": "markdown",
   "metadata": {},
   "source": [
    "### SAHIL AMRITKAR\n",
    "### 20BRS1180  \n"
   ]
  },
  {
   "cell_type": "code",
   "execution_count": null,
   "metadata": {},
   "outputs": [],
   "source": [
    "#Import Fashion MNIST Dataset and perform classification for the following labels"
   ]
  },
  {
   "cell_type": "code",
   "execution_count": 3,
   "metadata": {},
   "outputs": [],
   "source": [
    "import numpy as np"
   ]
  },
  {
   "cell_type": "code",
   "execution_count": 20,
   "metadata": {},
   "outputs": [
    {
     "name": "stdout",
     "output_type": "stream",
     "text": [
      "(60000, 28, 28)\n",
      "(60000,)\n",
      "(10000, 28, 28)\n",
      "(10000,)\n"
     ]
    }
   ],
   "source": [
    "from keras.datasets import fashion_mnist\n",
    "(train_images_1, train_labels_1), (test_images_1, test_labels_1) = fashion_mnist.load_data()\n",
    "print(train_images_1.shape)\n",
    "print(train_labels_1.shape)\n",
    "print(test_images_1.shape)\n",
    "print(test_labels_1.shape)"
   ]
  },
  {
   "cell_type": "code",
   "execution_count": 17,
   "metadata": {},
   "outputs": [
    {
     "name": "stdout",
     "output_type": "stream",
     "text": [
      "(36000, 28, 28)\n",
      "(36000,)\n",
      "(6000, 28, 28)\n",
      "(6000,)\n"
     ]
    }
   ],
   "source": [
    "#Only keeping the rows with mentioned class labels\n",
    "class_names = ['T-shirt/top', 'Trouser', 'Pullover', 'Dress', 'Coat', 'Sandal']\n",
    "class_labels=[0,1,2,3,4,5]\n",
    "\n",
    "train_labels=[]\n",
    "train_images=[]\n",
    "test_labels=[]\n",
    "test_images=[]\n",
    "\n",
    "for i in train_labels_1:\n",
    "    if i in class_labels:\n",
    "        \n",
    "        train_labels.append(train_labels_1[i])\n",
    "        train_images.append(train_images_1[i])\n",
    "\n",
    "for i in test_labels_1:\n",
    "    if i in class_labels:\n",
    "        test_labels.append(test_labels_1[i])\n",
    "        test_images.append(test_images_1[i])\n",
    "\n",
    "train_labels=np.array(train_labels)\n",
    "train_images=np.array(train_images)\n",
    "test_labels=np.array(test_labels)\n",
    "test_images=np.array(test_images)\n",
    "\n",
    "print(train_images.shape)\n",
    "print(train_labels.shape)\n",
    "print(test_images.shape)\n",
    "print(test_labels.shape)"
   ]
  },
  {
   "cell_type": "code",
   "execution_count": 15,
   "metadata": {},
   "outputs": [],
   "source": [
    "from keras import models\n",
    "from keras import layers\n",
    "network = models.Sequential()\n",
    "network.add(layers.Dense(512, activation='relu', input_shape=(28 * 28,)))\n",
    "network.add(layers.Dense(10, activation='softmax'))"
   ]
  },
  {
   "cell_type": "code",
   "execution_count": 18,
   "metadata": {},
   "outputs": [],
   "source": [
    "network.compile(optimizer='rmsprop',\n",
    "                loss='categorical_crossentropy',\n",
    "                metrics=['accuracy'])\n",
    "\n",
    "train_images = train_images.reshape((36000, 28 * 28))\n",
    "train_images = train_images.astype('float32') / 255\n",
    "test_images = test_images.reshape((6000, 28 * 28))\n",
    "test_images = test_images.astype('float32') / 255"
   ]
  },
  {
   "cell_type": "code",
   "execution_count": 19,
   "metadata": {},
   "outputs": [
    {
     "name": "stderr",
     "output_type": "stream",
     "text": [
      "2022-12-14 22:06:06.553712: W tensorflow/core/platform/profile_utils/cpu_utils.cc:128] Failed to get CPU frequency: 0 Hz\n",
      "2022-12-14 22:06:06.730102: I tensorflow/core/grappler/optimizers/custom_graph_optimizer_registry.cc:112] Plugin optimizer for device_type GPU is enabled.\n"
     ]
    },
    {
     "name": "stdout",
     "output_type": "stream",
     "text": [
      "Epoch 1/5\n",
      "282/282 [==============================] - 4s 12ms/step - loss: 0.0248 - accuracy: 0.9920\n",
      "Epoch 2/5\n",
      "282/282 [==============================] - 3s 11ms/step - loss: 2.2723e-09 - accuracy: 1.0000\n",
      "Epoch 3/5\n",
      "282/282 [==============================] - 3s 11ms/step - loss: 0.0000e+00 - accuracy: 1.0000\n",
      "Epoch 4/5\n",
      "282/282 [==============================] - 3s 11ms/step - loss: 0.0000e+00 - accuracy: 1.0000\n",
      "Epoch 5/5\n",
      "282/282 [==============================] - 3s 11ms/step - loss: 0.0000e+00 - accuracy: 1.0000\n",
      " 13/188 [=>............................] - ETA: 1s - loss: 13.3891 - accuracy: 0.3389"
     ]
    },
    {
     "name": "stderr",
     "output_type": "stream",
     "text": [
      "2022-12-14 22:06:23.530385: I tensorflow/core/grappler/optimizers/custom_graph_optimizer_registry.cc:112] Plugin optimizer for device_type GPU is enabled.\n"
     ]
    },
    {
     "name": "stdout",
     "output_type": "stream",
     "text": [
      "188/188 [==============================] - 2s 9ms/step - loss: 13.5532 - accuracy: 0.3333\n",
      "test_acc: 0.3333333432674408\n"
     ]
    }
   ],
   "source": [
    "from tensorflow.keras.utils import to_categorical\n",
    "train_labels = to_categorical(train_labels)\n",
    "test_labels = to_categorical(test_labels)\n",
    "network.fit(train_images, train_labels, epochs=5, batch_size=128)\n",
    "test_loss, test_acc = network.evaluate(test_images, test_labels)\n",
    "print('test_acc:', test_acc)"
   ]
  }
 ],
 "metadata": {
  "kernelspec": {
   "display_name": "base",
   "language": "python",
   "name": "python3"
  },
  "language_info": {
   "codemirror_mode": {
    "name": "ipython",
    "version": 3
   },
   "file_extension": ".py",
   "mimetype": "text/x-python",
   "name": "python",
   "nbconvert_exporter": "python",
   "pygments_lexer": "ipython3",
   "version": "3.9.13"
  },
  "orig_nbformat": 4,
  "vscode": {
   "interpreter": {
    "hash": "6384575b9e532e82104270d023e6e37f09c40fb57c7ed1c8a2ad2cc930e74b63"
   }
  }
 },
 "nbformat": 4,
 "nbformat_minor": 2
}
